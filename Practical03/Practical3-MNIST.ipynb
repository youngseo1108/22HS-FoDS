{
  "cells": [
    {
      "cell_type": "markdown",
      "metadata": {
        "id": "RyOt6EwtIkwU"
      },
      "source": [
        "# Practical 3: MNIST\n",
        "\n",
        "This is the first task of Practical 3. Your task is to build a (convolutional) neural network to classify the handwritten digits from the MNIST dataset (http://yann.lecun.com/exdb/mnist/). \n",
        "\n",
        "You should get an accuracy of **at least 97%** to pass the practical. \n",
        "\n",
        "The model files might be too large to be uploaded to GitHub. \n",
        "Please use the following link to upload your models: https://seafile.ifi.uzh.ch/u/d/695f63e725b641ed8633/\n",
        "\n",
        "Name the model file `{repository_name}-MNIST.h5`. For example, if your repository is FDS22-M0, you should name the model file `FDS22-M0-MNIST.h5`. If you are not satisfied with the model you have uploaded, you can upload a new one with the same name. We will only look at the newest model. Nevertheless, try to upload as few times as possible, since the online drive has a limited amount of space. "
      ]
    },
    {
      "cell_type": "markdown",
      "metadata": {
        "id": "C816eXZsIkwV"
      },
      "source": [
        "## Import the libraries"
      ]
    },
    {
      "cell_type": "code",
      "execution_count": 1,
      "metadata": {
        "id": "esmRkUc1IkwW"
      },
      "outputs": [],
      "source": [
        "import numpy as np\n",
        "import pandas as pd\n",
        "import matplotlib.pyplot as plt\n",
        "\n",
        "import tensorflow as tf\n",
        "from tensorflow import keras"
      ]
    },
    {
      "cell_type": "code",
      "execution_count": 2,
      "metadata": {
        "colab": {
          "base_uri": "https://localhost:8080/",
          "height": 36
        },
        "id": "Mf3fhajhIkwW",
        "outputId": "23eec667-58d5-4904-c4b7-fac2a1b4f3ee"
      },
      "outputs": [
        {
          "output_type": "execute_result",
          "data": {
            "text/plain": [
              "'2.9.2'"
            ],
            "application/vnd.google.colaboratory.intrinsic+json": {
              "type": "string"
            }
          },
          "metadata": {},
          "execution_count": 2
        }
      ],
      "source": [
        "tf.__version__"
      ]
    },
    {
      "cell_type": "code",
      "execution_count": 3,
      "metadata": {
        "colab": {
          "base_uri": "https://localhost:8080/",
          "height": 36
        },
        "id": "zctIQik2IkwX",
        "outputId": "82462f34-da1e-4af3-a5cc-2c53c53e9e26"
      },
      "outputs": [
        {
          "output_type": "execute_result",
          "data": {
            "text/plain": [
              "'2.9.0'"
            ],
            "application/vnd.google.colaboratory.intrinsic+json": {
              "type": "string"
            }
          },
          "metadata": {},
          "execution_count": 3
        }
      ],
      "source": [
        "tf.keras.__version__"
      ]
    },
    {
      "cell_type": "markdown",
      "metadata": {
        "id": "lbx35R-fIkwX"
      },
      "source": [
        "## Prepare the dataset\n",
        "\n",
        "In this block, you will prepare the data for the training, such as normalisation. "
      ]
    },
    {
      "cell_type": "code",
      "execution_count": 4,
      "metadata": {
        "colab": {
          "base_uri": "https://localhost:8080/",
          "height": 372
        },
        "id": "IPo_LFahIkwX",
        "outputId": "6e4e94a4-9be1-4660-8dde-cb5ba5c28140"
      },
      "outputs": [
        {
          "output_type": "stream",
          "name": "stdout",
          "text": [
            "Downloading data from https://storage.googleapis.com/tensorflow/tf-keras-datasets/mnist.npz\n",
            "11490434/11490434 [==============================] - 2s 0us/step\n"
          ]
        },
        {
          "output_type": "display_data",
          "data": {
            "text/plain": [
              "<Figure size 432x288 with 9 Axes>"
            ],
            "image/png": "[encoded data removed]"
          },
          "metadata": {
            "needs_background": "light"
          }
        },
        {
          "output_type": "stream",
          "name": "stdout",
          "text": [
            "X train: (60000, 28, 28, 1)\n",
            "y train: (60000, 10)\n",
            "X test:  (10000, 28, 28, 1)\n",
            "y test:  (10000, 10)\n"
          ]
        }
      ],
      "source": [
        "from keras.datasets import mnist\n",
        "(X_train_full, y_train_full), (X_test, y_test) = mnist.load_data()\n",
        "\n",
        "for i in range(0,9):\n",
        "    plt.subplot(330 + 1 + i)\n",
        "    plt.imshow(X_train_full[i])\n",
        "plt.show()\n",
        "\n",
        "# Add a channel for RGB\n",
        "X_train_full = X_train_full.reshape((X_train_full.shape[0], 28, 28, 1))\n",
        "X_test = X_test.reshape((X_test.shape[0], 28, 28, 1))\n",
        "\n",
        "# One-hot encoding\n",
        "y_train_full = keras.utils.to_categorical(y_train_full, num_classes=10)\n",
        "y_test = keras.utils.to_categorical(y_test, num_classes=10)\n",
        "\n",
        "# Normalisation\n",
        "X_train_full = X_train_full/255.0\n",
        "X_test = X_test/255.0\n",
        "\n",
        "# Get validation dataset\n",
        "np.random.seed(42) # we set the random seed to make sure everytime the data is shuffled in the same way \n",
        "shuffled_indices = np.random.permutation(X_train_full.shape[0])\n",
        "X_valid, X_train = X_train_full[shuffled_indices[:5000]], X_train_full[shuffled_indices[5000:]]\n",
        "y_valid, y_train = y_train_full[shuffled_indices[:5000]], y_train_full[shuffled_indices[5000:]]\n",
        "\n",
        "print('X train: ' + str(X_train_full.shape)) # 60K images / dimension 28*28 / 1 channel\n",
        "print('y train: ' + str(y_train_full.shape))\n",
        "print('X test:  '  + str(X_test.shape))\n",
        "print('y test:  '  + str(y_test.shape))"
      ]
    },
    {
      "cell_type": "markdown",
      "metadata": {
        "id": "aJD4RDkDIkwX"
      },
      "source": [
        "## Build and train the model\n",
        "\n",
        "Build and train your model. "
      ]
    },
    {
      "cell_type": "code",
      "execution_count": 5,
      "metadata": {
        "id": "TbJituZJIkwX"
      },
      "outputs": [],
      "source": [
        "# TODO: Build your model\n",
        "# 784 input (28*28 pixels) -> 64 -> 128 -> 256 -> 128 -> 64 -> 10 -> output: digit prediction in one hot encoding\n",
        "# structure: input size (28*28), hidden layers sizes, # of classes (10)\n",
        "model = keras.models.Sequential([\n",
        "    keras.layers.Conv2D(filters=64, kernel_size=7, activation=\"relu\", kernel_initializer='he_uniform', padding=\"same\", input_shape=[28, 28, 1]), # Xtrain 28,28,1\n",
        "    keras.layers.MaxPooling2D(pool_size=2),\n",
        "    keras.layers.Conv2D(filters=128, kernel_size=3, activation=\"relu\", kernel_initializer='he_uniform', padding=\"same\"), \n",
        "    keras.layers.Conv2D(filters=128, kernel_size=3, activation=\"relu\", kernel_initializer='he_uniform', padding=\"same\"), \n",
        "    keras.layers.MaxPooling2D(pool_size=2),\n",
        "    keras.layers.Conv2D(filters=256, kernel_size=3, activation=\"relu\", kernel_initializer='he_uniform', padding=\"same\"), \n",
        "    keras.layers.Conv2D(filters=256, kernel_size=3, activation=\"relu\", kernel_initializer='he_uniform', padding=\"same\"), \n",
        "    keras.layers.MaxPooling2D(pool_size=2),\n",
        "    keras.layers.Flatten(), # starting fully connected layers\n",
        "    keras.layers.Dense(128, activation=\"relu\", kernel_initializer='he_uniform'),\n",
        "    keras.layers.Dropout(0.5),\n",
        "    keras.layers.Dense(64, activation=\"relu\", kernel_initializer='he_uniform'),\n",
        "    keras.layers.Dropout(0.5),\n",
        "    keras.layers.Dense(10, activation=\"softmax\")\n",
        "])"
      ]
    },
    {
      "cell_type": "code",
      "execution_count": 6,
      "metadata": {
        "id": "q1rLLePnIkwY",
        "colab": {
          "base_uri": "https://localhost:8080/"
        },
        "outputId": "b3baab31-a60a-4ea1-8664-c05d55b151d4"
      },
      "outputs": [
        {
          "output_type": "stream",
          "name": "stdout",
          "text": [
            "Model: \"sequential\"\n",
            "_________________________________________________________________\n",
            " Layer (type)                Output Shape              Param #   \n",
            "=================================================================\n",
            " conv2d (Conv2D)             (None, 28, 28, 64)        3200      \n",
            "                                                                 \n",
            " max_pooling2d (MaxPooling2D  (None, 14, 14, 64)       0         \n",
            " )                                                               \n",
            "                                                                 \n",
            " conv2d_1 (Conv2D)           (None, 14, 14, 128)       73856     \n",
            "                                                                 \n",
            " conv2d_2 (Conv2D)           (None, 14, 14, 128)       147584    \n",
            "                                                                 \n",
            " max_pooling2d_1 (MaxPooling  (None, 7, 7, 128)        0         \n",
            " 2D)                                                             \n",
            "                                                                 \n",
            " conv2d_3 (Conv2D)           (None, 7, 7, 256)         295168    \n",
            "                                                                 \n",
            " conv2d_4 (Conv2D)           (None, 7, 7, 256)         590080    \n",
            "                                                                 \n",
            " max_pooling2d_2 (MaxPooling  (None, 3, 3, 256)        0         \n",
            " 2D)                                                             \n",
            "                                                                 \n",
            " flatten (Flatten)           (None, 2304)              0         \n",
            "                                                                 \n",
            " dense (Dense)               (None, 128)               295040    \n",
            "                                                                 \n",
            " dropout (Dropout)           (None, 128)               0         \n",
            "                                                                 \n",
            " dense_1 (Dense)             (None, 64)                8256      \n",
            "                                                                 \n",
            " dropout_1 (Dropout)         (None, 64)                0         \n",
            "                                                                 \n",
            " dense_2 (Dense)             (None, 10)                650       \n",
            "                                                                 \n",
            "=================================================================\n",
            "Total params: 1,413,834\n",
            "Trainable params: 1,413,834\n",
            "Non-trainable params: 0\n",
            "_________________________________________________________________\n"
          ]
        }
      ],
      "source": [
        "# show the structure of your model\n",
        "model.summary()"
      ]
    },
    {
      "cell_type": "code",
      "source": [
        "# Compile & train the model\n",
        "batch = 32\n",
        "epoch = 30\n",
        "\n",
        "model.compile(loss=\"categorical_crossentropy\",\n",
        "              optimizer=keras.optimizers.Adam(),\n",
        "              metrics=[\"accuracy\"])\n",
        "\n",
        "history = model.fit(X_train, y_train, batch_size=batch, epochs=epoch, validation_data=(X_valid, y_valid))"
      ],
      "metadata": {
        "colab": {
          "base_uri": "https://localhost:8080/"
        },
        "id": "DlIXNeTWCVpz",
        "outputId": "3ee3df14-634c-4339-d095-f03aa4937bd8"
      },
      "execution_count": 7,
      "outputs": [
        {
          "output_type": "stream",
          "name": "stdout",
          "text": [
            "Epoch 1/30\n",
            "1719/1719 [==============================] - 24s 8ms/step - loss: 0.7278 - accuracy: 0.7551 - val_loss: 0.0858 - val_accuracy: 0.9780\n",
            "Epoch 2/30\n",
            "1719/1719 [==============================] - 12s 7ms/step - loss: 0.2325 - accuracy: 0.9331 - val_loss: 0.0657 - val_accuracy: 0.9866\n",
            "Epoch 3/30\n",
            "1719/1719 [==============================] - 12s 7ms/step - loss: 0.1570 - accuracy: 0.9543 - val_loss: 0.0759 - val_accuracy: 0.9830\n",
            "Epoch 4/30\n",
            "1719/1719 [==============================] - 12s 7ms/step - loss: 0.1181 - accuracy: 0.9645 - val_loss: 0.0665 - val_accuracy: 0.9880\n",
            "Epoch 5/30\n",
            "1719/1719 [==============================] - 13s 8ms/step - loss: 0.1012 - accuracy: 0.9730 - val_loss: 0.0542 - val_accuracy: 0.9896\n",
            "Epoch 6/30\n",
            "1719/1719 [==============================] - 12s 7ms/step - loss: 0.0766 - accuracy: 0.9784 - val_loss: 0.0662 - val_accuracy: 0.9878\n",
            "Epoch 7/30\n",
            "1719/1719 [==============================] - 12s 7ms/step - loss: 0.0654 - accuracy: 0.9809 - val_loss: 0.0619 - val_accuracy: 0.9910\n",
            "Epoch 8/30\n",
            "1719/1719 [==============================] - 13s 8ms/step - loss: 0.0555 - accuracy: 0.9847 - val_loss: 0.0750 - val_accuracy: 0.9888\n",
            "Epoch 9/30\n",
            "1719/1719 [==============================] - 13s 8ms/step - loss: 0.0579 - accuracy: 0.9859 - val_loss: 0.0577 - val_accuracy: 0.9894\n",
            "Epoch 10/30\n",
            "1719/1719 [==============================] - 14s 8ms/step - loss: 0.0515 - accuracy: 0.9876 - val_loss: 0.0615 - val_accuracy: 0.9902\n",
            "Epoch 11/30\n",
            "1719/1719 [==============================] - 12s 7ms/step - loss: 0.0394 - accuracy: 0.9909 - val_loss: 0.0708 - val_accuracy: 0.9892\n",
            "Epoch 12/30\n",
            "1719/1719 [==============================] - 12s 7ms/step - loss: 0.0435 - accuracy: 0.9901 - val_loss: 0.0951 - val_accuracy: 0.9896\n",
            "Epoch 13/30\n",
            "1719/1719 [==============================] - 12s 7ms/step - loss: 0.0451 - accuracy: 0.9903 - val_loss: 0.0625 - val_accuracy: 0.9888\n",
            "Epoch 14/30\n",
            "1719/1719 [==============================] - 13s 8ms/step - loss: 0.0364 - accuracy: 0.9921 - val_loss: 0.0596 - val_accuracy: 0.9894\n",
            "Epoch 15/30\n",
            "1719/1719 [==============================] - 13s 8ms/step - loss: 0.0393 - accuracy: 0.9914 - val_loss: 0.0567 - val_accuracy: 0.9910\n",
            "Epoch 16/30\n",
            "1719/1719 [==============================] - 12s 7ms/step - loss: 0.0414 - accuracy: 0.9917 - val_loss: 0.0763 - val_accuracy: 0.9896\n",
            "Epoch 17/30\n",
            "1719/1719 [==============================] - 14s 8ms/step - loss: 0.0375 - accuracy: 0.9922 - val_loss: 0.1073 - val_accuracy: 0.9894\n",
            "Epoch 18/30\n",
            "1719/1719 [==============================] - 12s 7ms/step - loss: 0.0354 - accuracy: 0.9924 - val_loss: 0.0843 - val_accuracy: 0.9912\n",
            "Epoch 19/30\n",
            "1719/1719 [==============================] - 12s 7ms/step - loss: 0.0377 - accuracy: 0.9921 - val_loss: 0.0666 - val_accuracy: 0.9910\n",
            "Epoch 20/30\n",
            "1719/1719 [==============================] - 12s 7ms/step - loss: 0.0379 - accuracy: 0.9925 - val_loss: 0.1030 - val_accuracy: 0.9912\n",
            "Epoch 21/30\n",
            "1719/1719 [==============================] - 12s 7ms/step - loss: 0.0364 - accuracy: 0.9925 - val_loss: 0.0758 - val_accuracy: 0.9920\n",
            "Epoch 22/30\n",
            "1719/1719 [==============================] - 12s 7ms/step - loss: 0.0377 - accuracy: 0.9922 - val_loss: 0.1115 - val_accuracy: 0.9908\n",
            "Epoch 23/30\n",
            "1719/1719 [==============================] - 12s 7ms/step - loss: 0.0373 - accuracy: 0.9918 - val_loss: 0.1209 - val_accuracy: 0.9906\n",
            "Epoch 24/30\n",
            "1719/1719 [==============================] - 12s 7ms/step - loss: 0.0408 - accuracy: 0.9918 - val_loss: 0.1449 - val_accuracy: 0.9906\n",
            "Epoch 25/30\n",
            "1719/1719 [==============================] - 13s 8ms/step - loss: 0.0320 - accuracy: 0.9934 - val_loss: 0.1153 - val_accuracy: 0.9912\n",
            "Epoch 26/30\n",
            "1719/1719 [==============================] - 12s 7ms/step - loss: 0.0340 - accuracy: 0.9933 - val_loss: 0.0872 - val_accuracy: 0.9912\n",
            "Epoch 27/30\n",
            "1719/1719 [==============================] - 12s 7ms/step - loss: 0.0389 - accuracy: 0.9927 - val_loss: 0.0810 - val_accuracy: 0.9904\n",
            "Epoch 28/30\n",
            "1719/1719 [==============================] - 14s 8ms/step - loss: 0.0390 - accuracy: 0.9928 - val_loss: 0.1010 - val_accuracy: 0.9888\n",
            "Epoch 29/30\n",
            "1719/1719 [==============================] - 14s 8ms/step - loss: 0.0256 - accuracy: 0.9947 - val_loss: 0.1136 - val_accuracy: 0.9900\n",
            "Epoch 30/30\n",
            "1719/1719 [==============================] - 12s 7ms/step - loss: 0.0370 - accuracy: 0.9932 - val_loss: 0.1083 - val_accuracy: 0.9906\n"
          ]
        }
      ]
    },
    {
      "cell_type": "code",
      "execution_count": 8,
      "metadata": {
        "id": "L5lTgSgaIkwY",
        "colab": {
          "base_uri": "https://localhost:8080/",
          "height": 487
        },
        "outputId": "d226f929-1384-44aa-b47f-4c06a62a4056"
      },
      "outputs": [
        {
          "output_type": "display_data",
          "data": {
            "text/plain": [
              "<Figure size 864x576 with 1 Axes>"
            ],
            "image/png": "[encoded data removed]"
          },
          "metadata": {
            "needs_background": "light"
          }
        }
      ],
      "source": [
        "# Assume you have stored the training history in the variable \"history\"\n",
        "# Show the learning curves\n",
        "pd.DataFrame(history.history).plot(figsize=(12, 8))\n",
        "plt.gca().set_ylim(0, 1)\n",
        "plt.grid(True)\n",
        "plt.show()"
      ]
    },
    {
      "cell_type": "markdown",
      "metadata": {
        "id": "JuBHqpKHIkwY"
      },
      "source": [
        "## Save the model\n",
        "\n",
        "Save and upload your trained model to the seafile link we provided to you. You can upload it multiple times. We will consider only the newest uploaded model. "
      ]
    },
    {
      "cell_type": "code",
      "execution_count": 9,
      "metadata": {
        "id": "GVzWSkrJIkwY",
        "colab": {
          "base_uri": "https://localhost:8080/",
          "height": 17
        },
        "outputId": "7291fe77-4451-4ae0-d4b2-0548bbac55f6"
      },
      "outputs": [
        {
          "output_type": "display_data",
          "data": {
            "text/plain": [
              "<IPython.core.display.Javascript object>"
            ],
            "application/javascript": [
              "\n",
              "    async function download(id, filename, size) {\n",
              "      if (!google.colab.kernel.accessAllowed) {\n",
              "        return;\n",
              "      }\n",
              "      const div = document.createElement('div');\n",
              "      const label = document.createElement('label');\n",
              "      label.textContent = `Downloading \"${filename}\": `;\n",
              "      div.appendChild(label);\n",
              "      const progress = document.createElement('progress');\n",
              "      progress.max = size;\n",
              "      div.appendChild(progress);\n",
              "      document.body.appendChild(div);\n",
              "\n",
              "      const buffers = [];\n",
              "      let downloaded = 0;\n",
              "\n",
              "      const channel = await google.colab.kernel.comms.open(id);\n",
              "      // Send a message to notify the kernel that we're ready.\n",
              "      channel.send({})\n",
              "\n",
              "      for await (const message of channel.messages) {\n",
              "        // Send a message to notify the kernel that we're ready.\n",
              "        channel.send({})\n",
              "        if (message.buffers) {\n",
              "          for (const buffer of message.buffers) {\n",
              "            buffers.push(buffer);\n",
              "            downloaded += buffer.byteLength;\n",
              "            progress.value = downloaded;\n",
              "          }\n",
              "        }\n",
              "      }\n",
              "      const blob = new Blob(buffers, {type: 'application/binary'});\n",
              "      const a = document.createElement('a');\n",
              "      a.href = window.URL.createObjectURL(blob);\n",
              "      a.download = filename;\n",
              "      div.appendChild(a);\n",
              "      a.click();\n",
              "      div.remove();\n",
              "    }\n",
              "  "
            ]
          },
          "metadata": {}
        },
        {
          "output_type": "display_data",
          "data": {
            "text/plain": [
              "<IPython.core.display.Javascript object>"
            ],
            "application/javascript": [
              "download(\"download_fa4dc637-12d0-47f1-b892-8b15c2510fc9\", \"FDS22-M029-MNIST.h5\", 17043984)"
            ]
          },
          "metadata": {}
        }
      ],
      "source": [
        "model.save('FDS22-M029-MNIST.h5') # change the file name according to your repository name\n",
        "\n",
        "from google.colab import files\n",
        "files.download('FDS22-M029-MNIST.h5')"
      ]
    },
    {
      "cell_type": "markdown",
      "metadata": {
        "id": "VvJIO99lIkwY"
      },
      "source": [
        "## Load the model and evaluate it on the test data"
      ]
    },
    {
      "cell_type": "code",
      "execution_count": 10,
      "metadata": {
        "id": "63biZOJ_IkwZ",
        "colab": {
          "base_uri": "https://localhost:8080/"
        },
        "outputId": "4ef04683-d6ba-4b22-ba17-5df585d95f90"
      },
      "outputs": [
        {
          "output_type": "stream",
          "name": "stdout",
          "text": [
            "313/313 [==============================] - 1s 4ms/step - loss: 0.0616 - accuracy: 0.9921\n"
          ]
        },
        {
          "output_type": "execute_result",
          "data": {
            "text/plain": [
              "[0.061626385897397995, 0.9921000003814697]"
            ]
          },
          "metadata": {},
          "execution_count": 10
        }
      ],
      "source": [
        "model = keras.models.load_model(\"FDS22-M029-MNIST.h5\")\n",
        "model.evaluate(X_test, y_test)"
      ]
    },
    {
      "cell_type": "markdown",
      "metadata": {
        "id": "CWFOIBBhIkwZ"
      },
      "source": [
        "## Short report\n",
        "\n",
        "We referred to the following resources to build a CNN model.:\n",
        "1. https://www.kaggle.com/code/elcaiseri/mnist-simple-cnn-keras-accuracy-0-99-top-1\n",
        "2. https://keras.io/examples/vision/mnist_convnet/\n",
        "\n",
        "`````\n",
        "Preprocessing\n",
        "`````\n",
        "We reshaped the data to add a channel for colours. Then, we implemented one-hot encoding for representing features in binary values. The values of train data were divided by 255.0 for normalisation, as the CNN converges faster on [0,1].\n",
        "\n",
        "\n",
        "`````\n",
        "Build the model\n",
        "`````\n",
        "The first is the convolutional (Conv2D) layer. I chose to set 64 filters (neurons) for the 1st layer, two layers with 128 filters for the 2nd layers, and then 256 filters for two 3rd layers. Each filter transforms a part of the image using the kernel filter. The kernel filter matrix was applied to the whole images. To reduce the computational cost and overfitting, we added the pooling (MaxPool2D) layers with the pool size of 2 after each layer with filters. With these convolutional and pooling layers, CNN are able to combine local features and learn more global features of the images. For an activation function, we chose ReLU because it is fast to compute. Accordingly, we implemented he_uniform as a kernel initialiser.\n",
        "\n",
        "We used the Flatten layers to convert the final feature maps into a 1D vector. In the end, we used the features in two fully-connected (Dense) layers. In the last layer(Dense(10,activation=\"softmax\")), the net returns the distribution of probability of each class.\n",
        "\n",
        "\n",
        "`````\n",
        "Train the model & Result\n",
        "`````\n",
        "Since this is a multi-class problem (10 categories), we used the categorical_crossentropy function to measure loss. For an optimiser, we chose adam as it was the best optimiser, which combined the ideas of momentum optimisation and adaptive learning rates. Moreover, as we adopted mini-batch gradient descent, we set the batch size to 32. Also, this is a default value of the batch size of MNIST. The number of epochs was 30, as a number larger than that led to overfitting.\n",
        "\n",
        "As a result, the model showed the accruacy of 98.95%."
      ]
    },
    {
      "cell_type": "code",
      "source": [],
      "metadata": {
        "id": "Xvj2dxqFmsQP"
      },
      "execution_count": null,
      "outputs": []
    }
  ],
  "metadata": {
    "kernelspec": {
      "display_name": "base",
      "language": "python",
      "name": "python3"
    },
    "language_info": {
      "codemirror_mode": {
        "name": "ipython",
        "version": 3
      },
      "file_extension": ".py",
      "mimetype": "text/x-python",
      "name": "python",
      "nbconvert_exporter": "python",
      "pygments_lexer": "ipython3",
      "version": "3.8.8 (default, Apr 13 2021, 15:08:03) [MSC v.1916 64 bit (AMD64)]"
    },
    "vscode": {
      "interpreter": {
        "hash": "ce9468903258b765c544aa35e2ba7730fd0fb24626dad3fe29e7bb1b77dcc642"
      }
    },
    "colab": {
      "provenance": []
    },
    "accelerator": "GPU",
    "gpuClass": "standard"
  },
  "nbformat": 4,
  "nbformat_minor": 0
}